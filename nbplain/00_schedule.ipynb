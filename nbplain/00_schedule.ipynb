{
 "cells": [
  {
   "cell_type": "markdown",
   "source": [
    "# Introduction to Linux and High Performance Computing"
   ],
   "metadata": {
    "slideshow": {
     "slide_type": "slide"
    }
   }
  },
  {
   "cell_type": "markdown",
   "source": [
    "The following workshop is an introduction to the Linux command line and High Performance Computing, and is a prerequisite for new HPC users before taking the Introduction to Cloud HPC workshop and gaining access to the Nimbus cloud HPC system at the University of Bath. "
   ],
   "metadata": {
    "slideshow": {
     "slide_type": "slide"
    }
   }
  },
  {
   "cell_type": "markdown",
   "source": [
    "## Prerequisites\n",
    "\n",
    "* Minimal prerequisites are required for the workshop: basic understanding of the concept of 'files' being stored on a computer in a 'directory'/'folder'. "
   ],
   "metadata": {
    "slideshow": {
     "slide_type": "slide"
    }
   }
  },
  {
   "cell_type": "markdown",
   "source": [
    "## Schedule\n",
    "\n",
    "Approximate timings for the workshop:\n",
    "\n",
    "### Session 1: Intro to Linux and the Command line\n",
    "| Time | Episode | Description |\n",
    "|---|---|---|\n",
    "| -:-- | [Introducing the Shell](./01_Introduction.ipynb) | Introduction to the Shell |\n",
    "| -:-- | [Setup](./02_Setup.ipynb) | Setup for the Lesson |\n",
    "| -:-- | [The Filesystem](./03_Filesystem.ipynb) | Basic Commands and Navigating the Filesystem |\n",
    "| -:-- | [Files and Directories](./04_FilesAndDirectories.ipynb) | Editing Files and Working with Directories |\n",
    "| -:-- | [More Advanced Commands](./05_AdvancedCommands.ipynb) | More Advanced Commands |\n",
    "| -:-- | [Repetitive Tasks](./06_RepetitiveTasks.ipynb) | Repetitive Tasks |\n",
    "| -:-- | [Shell Scripting](./07_ShellScripting.ipynb) | Shell Scripting |\n",
    "| -:-- | [Learning More](./08_LearningMore.ipynb) | Learning More |\n",
    "| -:-- | [Working on Your Own Machine](./09_WorkingOnYourOwnMachine) | Working on your Own Machine |\n",
    "\n",
    "\n",
    "### Session 2: Intro to High Performance Computing\n",
    "| Time | Episode | Description |\n",
    "|---|---|---|\n",
    "| -:-- | [Setup](./00_setup.ipynb) | Setup for the lesson |\n",
    "| 0:05 | [Accessing the System](./01_episode.ipynb) | Logging onto the system |\n"
   ],
   "metadata": {
    "slideshow": {
     "slide_type": "slide"
    }
   }
  },
  {
   "cell_type": "code",
   "execution_count": null,
   "source": [],
   "outputs": [],
   "metadata": {}
  }
 ],
 "metadata": {
  "celltoolbar": "Slideshow",
  "kernelspec": {
   "name": "python3",
   "display_name": "Python 3.6.8 64-bit"
  },
  "language_info": {
   "codemirror_mode": {
    "name": "ipython",
    "version": 3
   },
   "file_extension": ".py",
   "mimetype": "text/x-python",
   "name": "python",
   "nbconvert_exporter": "python",
   "pygments_lexer": "ipython3",
   "version": "3.6.8"
  },
  "interpreter": {
   "hash": "31f2aee4e71d21fbe5cf8b01ff0e069b9275f58929596ceb00d14d90e3e16cd6"
  }
 },
 "nbformat": 4,
 "nbformat_minor": 2
}
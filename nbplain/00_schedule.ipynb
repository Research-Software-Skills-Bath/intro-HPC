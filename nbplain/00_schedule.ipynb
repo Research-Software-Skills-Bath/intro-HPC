{
 "cells": [
  {
   "cell_type": "markdown",
   "metadata": {
    "slideshow": {
     "slide_type": "slide"
    }
   },
   "source": [
    "# Introduction High Performance Computing"
   ]
  },
  {
   "cell_type": "markdown",
   "metadata": {
    "slideshow": {
     "slide_type": "slide"
    }
   },
   "source": [
    "The following workshop is an introduction to High Performance Computing, and is a prerequisite for new HPC users before taking the Introduction to Cloud HPC workshop and gaining access to the Nimbus cloud HPC system at the University of Bath. "
   ]
  },
  {
   "cell_type": "markdown",
   "metadata": {
    "slideshow": {
     "slide_type": "slide"
    }
   },
   "source": [
    "## Prerequisites\n",
    "\n",
    "* You should have completed the `Introduction to the Shell` workshop. "
   ]
  },
  {
   "cell_type": "markdown",
   "metadata": {
    "slideshow": {
     "slide_type": "slide"
    }
   },
   "source": [
    "## Schedule\n",
    "\n",
    "Approximate timings for the workshop:\n",
    "\n",
    "### Session 2: Intro to High Performance Computing\n",
    "| Time | Episode | Description |\n",
    "|---|---|---|\n",
    "| 0:00 | [Setup](./01_getting_setup.ipynb) | Setup for the lesson |\n",
    "| 0:05 | [Introducing HPC](./02_introHPC.ipynb) | Introducing HPC |\n",
    "| 0:15 |[Job Scheduler](./03_Scheduler.ipynb) | The Job Scheduler | \n",
    "| 0:55 | [Software Modules](./04_Modules.ipynb) | Software Modules |\n",
    "| 1:10 | [RUnning a parallel Job](./05_running_a_parallel_job.ipynb) | Running a Parallel Job |\n",
    "\n",
    "\n"
   ]
  },
  {
   "cell_type": "code",
   "execution_count": null,
   "metadata": {},
   "outputs": [],
   "source": []
  }
 ],
 "metadata": {
  "celltoolbar": "Slideshow",
  "interpreter": {
   "hash": "31f2aee4e71d21fbe5cf8b01ff0e069b9275f58929596ceb00d14d90e3e16cd6"
  },
  "kernelspec": {
   "display_name": "Python 3.6.8 64-bit",
   "name": "python3"
  },
  "language_info": {
   "codemirror_mode": {
    "name": "ipython",
    "version": 3
   },
   "file_extension": ".py",
   "mimetype": "text/x-python",
   "name": "python",
   "nbconvert_exporter": "python",
   "pygments_lexer": "ipython3",
   "version": "3.6.8"
  }
 },
 "nbformat": 4,
 "nbformat_minor": 2
}

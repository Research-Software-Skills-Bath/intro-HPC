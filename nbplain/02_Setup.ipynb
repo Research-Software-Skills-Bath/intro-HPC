{
 "cells": [
  {
   "cell_type": "markdown",
   "source": [
    "# Setup: Getting access to the shell\n",
    "\n",
    "## Overview:\n",
    "\n",
    "- **Teaching:** 5 min\n",
    "- **Exercises:** 0 min\n",
    "\n",
    "**Questions**\n",
    "- How do I access the shell for this workshop?\n",
    "- How do I access the shell locally on my own machine?\n",
    "\n",
    "**Objectives**\n",
    "- Get access to a bash shell on the Reseacrh Software Skills JupyterHub Server.\n",
    "- Know how to open a terminal to access the shell on your own machine.\n"
   ],
   "metadata": {}
  },
  {
   "cell_type": "markdown",
   "source": [
    "## Access the JupyterHub Server\n",
    "\n",
    "For this workshop we will be accessing a shell on a remote server (though we'll also show how to access the shell on your local machine).\n",
    "\n",
    "To gain access to the server go to [https://rss.jupyterhub.bath.ac.uk/](https://rss.jupyterhub.bath.ac.uk/) in your web browser and log in with your University credentials:"
   ],
   "metadata": {}
  },
  {
   "cell_type": "markdown",
   "source": [
    "![JupyterHub Login](../images/JupyterHubLogin.png)"
   ],
   "metadata": {}
  },
  {
   "cell_type": "markdown",
   "source": [
    "Click on the `Welcome.ipynb` link, and then select the `intro-HPC` link:\n",
    "\n",
    "![Welcom](../images/Welcome.png)\n",
    "\n"
   ],
   "metadata": {}
  },
  {
   "cell_type": "markdown",
   "source": [
    "This will open up a new notebook - follow the instructions to run the cell, which copies the course material to your home directory (dont worry - we'll explore this command in the workshop).\n",
    "\n",
    "\n",
    "![Courses](../images/course-helper.png)"
   ],
   "metadata": {}
  },
  {
   "cell_type": "markdown",
   "source": [
    "\n",
    " Now we will open up a shell session. In the top right hand corner of the landing page on `rss.jupyterhub.bath.ac.uk` click the `New` button and select `terminal`:\n",
    "\n",
    "\n",
    "![Jhub](../images/jhub.png)\n",
    "\n"
   ],
   "metadata": {}
  },
  {
   "cell_type": "markdown",
   "source": [
    "A tab should open with the following window:\n",
    "\n",
    "![Terminal](../images/jhub-terminal.png)"
   ],
   "metadata": {}
  },
  {
   "cell_type": "markdown",
   "source": [
    "That's it - we now have a shell open, with a `command line interface` (CLI). \n",
    "\n",
    "The most popular Unix shell is Bash (the **B**ourne **A**gain **SH**ell — so-called because it’s derived from a shell written by Stephen Bourne). Bash is the default shell on most modern implementations of Unix and in most packages that provide Unix-like tools for Windows. This is the shell we are using on the server (though there are others)"
   ],
   "metadata": {}
  },
  {
   "cell_type": "markdown",
   "source": [
    "## Opening a shell on your system:\n",
    "\n",
    "### Windows:\n",
    "Computers with Windows operating systems do not automatically have a Unix Shell program installed. In this lesson, we encourage you to use an emulator included in [Git for Windows](https://carpentries.github.io/workshop-template/#shell), which gives you access to both Bash shell commands and Git.\n",
    "\n",
    "Once installed, you can open a terminal by running the program Git Bash from the Windows start menu.\n",
    "\n",
    "For advanced users:\n",
    "\n",
    "As an alternative to Git for Windows you may wish to [Install the Windows Subsystem for Linux](https://docs.microsoft.com/en-us/windows/wsl/install-win10) which gives access to a Bash shell command-line tool in Windows 10.\n",
    "\n",
    "Please note that commands in the Windows Subsystem for Linux (WSL) may differ slightly from those shown in the lesson or presented in the workshop.\n",
    "\n",
    "### macOS:\n",
    "\n",
    "For a Mac computer running macOS Mojave or earlier releases, the default Unix Shell is Bash. For a Mac computer running macOS Catalina or later releases, the default Unix Shell is Zsh. Your default shell is available via the Terminal program within your Utilities folder.\n",
    "\n",
    "To open Terminal, try one or both of the following:\n",
    "\n",
    "In Finder, select the Go menu, then select Utilities. Locate Terminal in the Utilities folder and open it.\n",
    "Use the Mac ‘Spotlight’ computer search function. Search for: Terminal and press Return.\n",
    "To check if your machine is set up to use something other than Bash, type echo $SHELL in your terminal window.\n",
    "\n",
    "If your machine is set up to use something other than Bash, you can run it by opening a terminal and typing bash.\n",
    "\n",
    "[How to Use Terminal on a Mac](http://www.macworld.co.uk/feature/mac-software/how-use-terminal-on-mac-3608274/)\n",
    "\n",
    "### Linux:\n",
    "\n",
    "The default Unix Shell for Linux operating systems is usually Bash. On most versions of Linux, it is accessible by running the Gnome Terminal or KDE Konsole or xterm, which can be found via the applications menu or the search bar. If your machine is set up to use something other than Bash, you can run it by opening a terminal and typing bash."
   ],
   "metadata": {}
  },
  {
   "cell_type": "markdown",
   "source": [
    "## Key Points:\n",
    "\n",
    "- You should now have a shell session open in a terminal on the RSS server\n",
    "- For future reference you should know where to find out information about opening a shell session on your own machine."
   ],
   "metadata": {}
  }
 ],
 "metadata": {
  "orig_nbformat": 4,
  "language_info": {
   "name": "python"
  }
 },
 "nbformat": 4,
 "nbformat_minor": 2
}
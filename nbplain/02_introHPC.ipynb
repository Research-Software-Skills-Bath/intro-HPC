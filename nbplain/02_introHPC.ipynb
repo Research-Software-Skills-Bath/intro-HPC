{
 "cells": [
  {
   "cell_type": "markdown",
   "metadata": {
    "slideshow": {
     "slide_type": "slide"
    }
   },
   "source": [
    "# Introducing High Performance Computing"
   ]
  },
  {
   "cell_type": "markdown",
   "metadata": {
    "slideshow": {
     "slide_type": "slide"
    }
   },
   "source": [
    "## Overview:\n",
    "\n",
    "- **Teaching:** 5 min\n",
    "- **Exercises:** 0 min\n",
    "\n",
    "**Questions**\n",
    "- Why would I be interested in High Performance Computing (HPC)?\n",
    "- What can I expect to learn from this course?\n",
    "\n",
    "**Objectives**\n",
    "- Understand that HPC is a collection of computing resourcesto deliver higher performance than a single machine.\n",
    "- Understand tha HPC can help you run your calculations more effieciently and more reliably.\n",
    "- Identify how an HPC system could benefit you."
   ]
  },
  {
   "cell_type": "markdown",
   "metadata": {},
   "source": [
    "### What is HPC and why is it different to using your desktop?\n",
    "“High Performance Computing most generally refers to the practice of aggregating computing power in a way that delivers much higher performance than one could get out of a typical desktop computer or workstation in order to solve large problems in science, engineering, or business.” - insideHPC\n",
    "\n",
    "\n",
    "\n",
    "![Balena](../images/02/balena-lights.jpg)\n",
    "\n",
    "Lets consider seeveral research scenarios:\n",
    "\n",
    "- A statistics student wants to cross-validate a model. This involves running the model 1000 times – but each run takes an hour. Running the model on a laptop will take over a month! In this research problem, final results are calculated after all 1000 models have run, but typically only one model is run at a time (in serial) on the laptop. Since each of the 1000 runs is independent of all others, and given enough computers, it’s theoretically possible to run them all at once (in parallel).\n",
    "- A genomics researcher has been using small datasets of sequence data, but soon will be receiving a new type of sequencing data that is 10 times as large. It’s already challenging to open the datasets on a computer – analyzing these larger datasets will probably crash it. In this research problem, the calculations required might be impossible to parallelize, but a computer with more memory would be required to analyze the much larger future data set.\n",
    "- An engineer is using a fluid dynamics package that has an option to run in parallel. So far, this option was not used on a desktop. In going from 2D to 3D simulations, the simulation time has more than tripled. It might be useful to take advantage of that option or feature. In this research problem, the calculations in each region of the simulation are largely independent of calculations in other regions of the simulation. It’s possible to run each region’s calculations simultaneously (in parallel), communicate selected results to adjacent regions as needed, and repeat the calculations to converge on a final set of results. In moving from a 2D to a 3D model, both the amount of data and the amount of calculations increases greatly, and it’s theoretically possible to distribute the calculations across multiple computers communicating over a shared network.\n",
    "\n",
    "\n",
    "In all these cases, access to more (and larger) computers is needed. Those computers should be usable at the same time, solving many researchers’ problems in parallel."
   ]
  },
  {
   "cell_type": "markdown",
   "metadata": {},
   "source": [
    "### PC vs HPC\n",
    "\n",
    "Your PC is your local computing resource, good for small computational tasks. It is flexible, easy to set-up and configure for new tasks, though it has limited computational resources.\n",
    "\n",
    "\n",
    "![Balena](../images/02/pc.webp)\n",
    "\n",
    "A HPC system is typically described as a cluster - as it is made up of a **`cluster`** of computers, or compute nodes. Each individual compute node is typically a lot more powerful than any PC  - i.e. more memory, many more and faster CPU cores.\n",
    "\n",
    "![Cluster](../images/02/compute_cluster.png)"
   ]
  },
  {
   "cell_type": "markdown",
   "metadata": {
    "slideshow": {
     "slide_type": "slide"
    }
   },
   "source": [
    "## Key Points:\n",
    "\n",
    "- "
   ]
  },
  {
   "cell_type": "markdown",
   "metadata": {},
   "source": []
  }
 ],
 "metadata": {
  "celltoolbar": "Slideshow",
  "interpreter": {
   "hash": "34ca29161607e5f7cfaedbbe9382ec6f901cc55d05021f1b8574c9c3a634adef"
  },
  "kernelspec": {
   "display_name": "Python 3.9.11 64-bit ('isambard_docs': conda)",
   "name": "python3"
  },
  "language_info": {
   "codemirror_mode": {
    "name": "ipython",
    "version": 3
   },
   "file_extension": ".py",
   "mimetype": "text/x-python",
   "name": "python",
   "nbconvert_exporter": "python",
   "pygments_lexer": "ipython3",
   "version": "3.9.11"
  }
 },
 "nbformat": 4,
 "nbformat_minor": 2
}

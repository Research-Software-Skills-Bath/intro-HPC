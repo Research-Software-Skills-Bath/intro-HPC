{
 "cells": [
  {
   "cell_type": "markdown",
   "metadata": {
    "slideshow": {
     "slide_type": "slide"
    }
   },
   "source": [
    "# Introducing the Portal"
   ]
  },
  {
   "cell_type": "markdown",
   "metadata": {
    "slideshow": {
     "slide_type": "slide"
    }
   },
   "source": [
    "## Overview:\n",
    "\n",
    "- **Teaching:** 5 min\n",
    "- **Exercises:** 0 min\n",
    "\n",
    "**Questions**\n",
    "- What is the Research Computing Finance Portal?\n"
   ]
  },
  {
   "cell_type": "markdown",
   "metadata": {
    "slideshow": {
     "slide_type": "slide"
    }
   },
   "source": [
    "## What is the Research Computing Finance Portal?\n",
    "\n",
    "The Research Computing Portal allows users to manage their research computing resources and finance.\n",
    "\n",
    "The portal allows users to:\n",
    "\n",
    "- create and manage accounts, membership, and resources\n",
    "- view job transactions, storage consumption, budgets, and expenditure.\n",
    "\n",
    "You will need to use the Research Computing Portal if you need to:\n",
    "\n",
    "- Set up and configure an account to use research computing resources such as Nimbus and Anatra.\n",
    "- Monitor the budget commitment and expenditure associated with a Research Computing account.\n",
    "- Monitor computing and storage transactions.\n"
   ]
  },
  {
   "cell_type": "markdown",
   "metadata": {},
   "source": [
    "## Exercise: Logging in\n",
    "\n",
    "Open a web browser and navigate to [https://rcam.bath.ac.uk](https://rcam.bath.ac.uk) and log in with your University credentials.\n",
    "\n",
    "\n",
    "[Solution](../images/ResearchFinancePortal.png)"
   ]
  },
  {
   "cell_type": "markdown",
   "metadata": {
    "slideshow": {
     "slide_type": "subslide"
    }
   },
   "source": [
    "![Research Finance Portal](../images/ResearchFinancePortal.png)"
   ]
  },
  {
   "cell_type": "markdown",
   "metadata": {
    "slideshow": {
     "slide_type": "slide"
    }
   },
   "source": [
    "## The Shell\n",
    "\n",
    "This description makes it sound as though the user sends commands directly to the computer, and the computer sends output directly to the user. In fact, there is usually a program in between called a **command shell**. What the user types goes into the shell, which then figures out what commands to run and orders the computer to execute them. (Note that the shell is called “the shell” because it encloses the operating system in order to hide some of its complexity and make it simpler to interact with.)\n",
    "\n",
    "A shell is a program like any other. What's special about it is that its job is to run other programs rather than to do calculations itself. "
   ]
  },
  {
   "cell_type": "markdown",
   "metadata": {
    "slideshow": {
     "slide_type": "slide"
    }
   },
   "source": [
    "## Is it difficult?\n",
    "\n",
    "It is a different model of interacting than a GUI, and that will take some effort - and some time - to learn. A GUI presents you with choices and you select one. With a **command line interface** (CLI) the choices are combinations of commands and parameters, more like words in a language than buttons on a screen. They are not presented to you so you must learn a few, like learning some vocabulary in a new language. But a small number of commands gets you a long way, and we'll cover those essential few today."
   ]
  },
  {
   "cell_type": "markdown",
   "metadata": {
    "slideshow": {
     "slide_type": "slide"
    }
   },
   "source": [
    "## Flexibility and automation\n",
    "\n",
    "The grammar of a shell allows you to combine existing tools into powerful pipelines and handle large volumes of data automatically. Sequences of commands can be written into a _script_, improving the reproducibility of workflows and allowing you to repeat them easily.\n",
    "\n",
    "In addition, the command line is often the easiest way to interact with remote machines and supercomputers. Familiarity with the shell is near essential to run a variety of specialized tools and resources including high-performance computing systems. As clusters and cloud computing systems become more popular for scientific data crunching, being able to interact with the shell is becoming a necessary skill. We can build on the command-line skills covered here to tackle a wide range of scientific questions and computational challenges."
   ]
  },
  {
   "cell_type": "markdown",
   "metadata": {
    "slideshow": {
     "slide_type": "slide"
    }
   },
   "source": [
    "This lesson is derived from [the Software Carpentries](http://swcarpentry.github.io/shell-novice/) lesson. "
   ]
  },
  {
   "cell_type": "markdown",
   "metadata": {
    "slideshow": {
     "slide_type": "slide"
    }
   },
   "source": [
    "## Key Points:\n",
    "\n",
    "- A shell is a program whose primary purpose is to read commands and run other programs.\n",
    "- The shell's main advantages are its high action-to-keystroke ratio, its support for automating repetitive tasks, and its capacity to access networked machines.\n",
    "- The shell's main disadvantages are its primarily textual nature and how cryptic its commands and operation can be."
   ]
  },
  {
   "cell_type": "markdown",
   "metadata": {},
   "source": []
  }
 ],
 "metadata": {
  "celltoolbar": "Slideshow",
  "interpreter": {
   "hash": "34ca29161607e5f7cfaedbbe9382ec6f901cc55d05021f1b8574c9c3a634adef"
  },
  "kernelspec": {
   "display_name": "Python 3.9.11 64-bit ('isambard_docs': conda)",
   "name": "python3"
  },
  "language_info": {
   "codemirror_mode": {
    "name": "ipython",
    "version": 3
   },
   "file_extension": ".py",
   "mimetype": "text/x-python",
   "name": "python",
   "nbconvert_exporter": "python",
   "pygments_lexer": "ipython3",
   "version": "3.9.11"
  }
 },
 "nbformat": 4,
 "nbformat_minor": 2
}

{
 "cells": [
  {
   "cell_type": "markdown",
   "source": [
    "# Introducing the Shell"
   ],
   "metadata": {
    "slideshow": {
     "slide_type": "slide"
    }
   }
  },
  {
   "cell_type": "markdown",
   "source": [
    "## Overview:\n",
    "\n",
    "- **Teaching:** 5 min\n",
    "- **Exercises:** 0 min\n",
    "\n",
    "**Questions**\n",
    "- What is a command shell and why would I use one?\n",
    "\n",
    "**Objectives**\n",
    "- Explain how the shell relates to the keyboard, the screen, the operating system, and users' programs.\n",
    "- Explain when and why command-line interfaces should be used instead of graphical interfaces."
   ],
   "metadata": {
    "slideshow": {
     "slide_type": "slide"
    }
   }
  },
  {
   "cell_type": "markdown",
   "source": [
    "## Background: GUI vs CLI\n",
    "\n",
    "At a high level, computers do four things:\n",
    "\n",
    "- run programs\n",
    "- store data\n",
    "- communicate with each other, and\n",
    "- interact with us\n",
    "\n",
    "They can do the last of these in many different ways, including through a keyboard and mouse, or touch screen interfaces, or speech recognition using systems. While such hardware interfaces are becoming more commonplace, most interaction is still done using screens, mice, touchpads and keyboards."
   ],
   "metadata": {
    "slideshow": {
     "slide_type": "slide"
    }
   }
  },
  {
   "cell_type": "markdown",
   "source": [
    "![GUI vs CLI](../images/git-cli-hero.png)\n",
    "\n",
    "We are all familiar with **graphical user interfaces** (GUI): windows, icons and pointers. They are easy to learn and fantastic for simple tasks where a vocabulary consisting of \"click\" translates easily into \"do the thing I want\". But this magic relies on wanting a simple set of things, and having programs that can do exactly those things. With a GUI we give instructions by clicking a mouse and using menu driven interactions. \n",
    "\n",
    "The visual aid of a GUI makes it intuitive to learn, but this way of delivering instructions does not scale very well.\n",
    "\n",
    "**For example**: for a literature search, you have to copy the third line of one thousand text files in one thousand different directories and paste it into a single file. Using a GUI, you would not only be clicking at your desk for several hours, but you could potentially also commit an error in the process of completing this repetitive task.\n",
    "\n",
    "Using the Unix shell provides a simple language and a **command-line interface** (CLI) that makes doing repetitive tasks such as these automatically, accurately and quickly. \n",
    "\n",
    "The heart of a CLI is a **read-evaluate-print loop** (REPL) called so because when you type a command and press <Return>. The shell reads it, executes (or \"evaluates\" it), prints the output, prints the prompt and waits for you to enter another command. \n",
    "\n",
    "With the proper commands, the shell can repeat tasks with or without some modification as many times as we want. Using the shell, the task in the literature example can be accomplished in seconds."
   ],
   "metadata": {
    "slideshow": {
     "slide_type": "subslide"
    }
   }
  },
  {
   "cell_type": "markdown",
   "source": [
    "## The Shell\n",
    "\n",
    "This description makes it sound as though the user sends commands directly to the computer, and the computer sends output directly to the user. In fact, there is usually a program in between called a **command shell**. What the user types goes into the shell, which then figures out what commands to run and orders the computer to execute them. (Note that the shell is called “the shell” because it encloses the operating system in order to hide some of its complexity and make it simpler to interact with.)\n",
    "\n",
    "A shell is a program like any other. What's special about it is that its job is to run other programs rather than to do calculations itself. "
   ],
   "metadata": {
    "slideshow": {
     "slide_type": "slide"
    }
   }
  },
  {
   "cell_type": "markdown",
   "source": [
    "## Is it difficult?\n",
    "\n",
    "It is a different model of interacting than a GUI, and that will take some effort - and some time - to learn. A GUI presents you with choices and you select one. With a **command line interface** (CLI) the choices are combinations of commands and parameters, more like words in a language than buttons on a screen. They are not presented to you so you must learn a few, like learning some vocabulary in a new language. But a small number of commands gets you a long way, and we'll cover those essential few today."
   ],
   "metadata": {
    "slideshow": {
     "slide_type": "slide"
    }
   }
  },
  {
   "cell_type": "markdown",
   "source": [
    "## Flexibility and automation\n",
    "\n",
    "The grammar of a shell allows you to combine existing tools into powerful pipelines and handle large volumes of data automatically. Sequences of commands can be written into a _script_, improving the reproducibility of workflows and allowing you to repeat them easily.\n",
    "\n",
    "In addition, the command line is often the easiest way to interact with remote machines and supercomputers. Familiarity with the shell is near essential to run a variety of specialized tools and resources including high-performance computing systems. As clusters and cloud computing systems become more popular for scientific data crunching, being able to interact with the shell is becoming a necessary skill. We can build on the command-line skills covered here to tackle a wide range of scientific questions and computational challenges."
   ],
   "metadata": {
    "slideshow": {
     "slide_type": "slide"
    }
   }
  },
  {
   "cell_type": "markdown",
   "source": [
    "This lesson is derived from [the Software Carpentries](http://swcarpentry.github.io/shell-novice/) lesson. "
   ],
   "metadata": {
    "slideshow": {
     "slide_type": "slide"
    }
   }
  },
  {
   "cell_type": "markdown",
   "source": [
    "## Key Points:\n",
    "\n",
    "- A shell is a program whose primary purpose is to read commands and run other programs.\n",
    "- The shell's main advantages are its high action-to-keystroke ratio, its support for automating repetitive tasks, and its capacity to access networked machines.\n",
    "- The shell's main disadvantages are its primarily textual nature and how cryptic its commands and operation can be."
   ],
   "metadata": {
    "slideshow": {
     "slide_type": "slide"
    }
   }
  },
  {
   "cell_type": "markdown",
   "source": [],
   "metadata": {}
  }
 ],
 "metadata": {
  "celltoolbar": "Slideshow",
  "kernelspec": {
   "name": "python3",
   "display_name": "Python 3.9.11 64-bit ('isambard_docs': conda)"
  },
  "language_info": {
   "codemirror_mode": {
    "name": "ipython",
    "version": 3
   },
   "file_extension": ".py",
   "mimetype": "text/x-python",
   "name": "python",
   "nbconvert_exporter": "python",
   "pygments_lexer": "ipython3",
   "version": "3.9.11"
  },
  "interpreter": {
   "hash": "34ca29161607e5f7cfaedbbe9382ec6f901cc55d05021f1b8574c9c3a634adef"
  }
 },
 "nbformat": 4,
 "nbformat_minor": 2
}
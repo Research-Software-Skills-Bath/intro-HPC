{
 "cells": [
  {
   "cell_type": "markdown",
   "metadata": {},
   "source": [
    "# Getting Set-Up"
   ]
  },
  {
   "cell_type": "markdown",
   "metadata": {},
   "source": [
    "## Overview:\n",
    "\n",
    "- **Teaching:** 5 min\n",
    "- **Exercises:** 0 min\n",
    "\n",
    "**Questions**\n",
    "- Where can I run the shell?\n",
    "- What are Jupyterhub and notebooks?\n",
    "\n",
    "**Objectives**\n",
    "- Log onto the JupyterHub Server for the lesson\n",
    "- Open a terminal on the Server\n",
    "- Copy the files necessary for this lesson\n",
    "- COnnect to the cluster container"
   ]
  },
  {
   "cell_type": "markdown",
   "metadata": {},
   "source": [
    "This episode details how to get started on the Jupyterhub Server (normally used for notebooks) and accessing the terminal and a container mimicking a cluster. This service runs a common Linux operating system with similar appearance to that found on MacOs and HPC services. You can access this service from any PC or laptop by in your web browser."
   ]
  },
  {
   "cell_type": "markdown",
   "metadata": {},
   "source": [
    "## Getting Started\n",
    "\n",
    "First we need to log-on to the server: https://astro.jupyterhub.bath.ac.uk, you should be redirected to use your University account via the Microsoft web login.  This should start a jupyterhub service running on the server and return you to a page that looks like:\n",
    "\n",
    "![Create new notebook](../images/01/jhub.png)"
   ]
  },
  {
   "cell_type": "markdown",
   "metadata": {},
   "source": [
    "You should have a number of files in your home folder.  Click on `Welcome.ipynb` to find out more about this service.  Click on the `Intro to HPC` link and follow the instructions to set up material for this course."
   ]
  },
  {
   "cell_type": "markdown",
   "metadata": {},
   "source": [
    "## Opening a Terminal\n",
    "From the JupyterHub server homepage click the `New` dropdown button and select `Terminal`. \n",
    "![Open new terminal](../images/01/jhub_terminal.png)"
   ]
  },
  {
   "cell_type": "markdown",
   "metadata": {},
   "source": [
    "This should open a terminal session in a fresh window for you:\n",
    "\n",
    "![New terminal](../images/01/terminal.png)\n",
    "\n"
   ]
  },
  {
   "cell_type": "markdown",
   "metadata": {},
   "source": [
    "## Connect to the Cluster Container\n",
    "For the purposes of this workshop we will be using a container set-up to mimick a HPC cluster, to get you comfortable with the environment, before later actually accessing Nimbus. \n",
    "\n",
    "In order to connect to the container from the terminal in Jupyterhub issue the command:\n",
    "\n",
    "```bash\n",
    "jupyter-user:~$connect_cluster\n",
    "```\n",
    "\n",
    "You will see that your home directory on the container is `/data/jupyter-user/`\n"
   ]
  },
  {
   "cell_type": "markdown",
   "metadata": {},
   "source": [
    "## Key Points:\n",
    "\n",
    "- You should now be logged into the JupyterHub server, with a terminal open and have connected to the cluster conatiner. "
   ]
  },
  {
   "cell_type": "markdown",
   "metadata": {},
   "source": []
  }
 ],
 "metadata": {
  "language_info": {
   "name": "python"
  },
  "orig_nbformat": 4
 },
 "nbformat": 4,
 "nbformat_minor": 2
}

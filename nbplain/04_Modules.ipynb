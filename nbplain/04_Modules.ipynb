{
 "cells": [
  {
   "cell_type": "markdown",
   "metadata": {},
   "source": [
    "# Modules\n",
    "\n",
    "## Overview:\n",
    "\n",
    "- **Teaching:** 10 min\n",
    "- **Exercises:** 5 min\n",
    "\n",
    "**Questions**\n",
    "- How is software managed on a HPC system?\n",
    "- How do I access the managed software?\n",
    "\n",
    "**Objectives**\n",
    "- Be able to use modules to access software."
   ]
  },
  {
   "cell_type": "markdown",
   "metadata": {},
   "source": [
    "## `module`\n",
    "\n",
    "On a high-performance computing system, it is often the case that no software is loaded by default. If we want to use a software package, we will need to “load” it ourselves.\n",
    "\n",
    "Before we start using individual software packages, however, we should understand the reasoning behind this approach. The three biggest factors are:\n",
    "\n",
    "- software incompatibilities;\n",
    "- versioning;\n",
    "- dependencies.\n",
    "\n",
    "Software incompatibility is a major headache for programmers. Sometimes the presence (or absence) of a software package will break others that depend on it. Two of the most famous examples are Python 2 and 3 and C compiler versions. Python 3 famously provides a python command that conflicts with that provided by Python 2. Software compiled against a newer version of the C libraries and then used when they are not present will result in a nasty 'GLIBCXX_3.4.20' not found error, for instance.\n",
    "\n",
    "Software versioning is another common issue. A team might depend on a certain package version for their research project - if the software version was to change (for instance, if a package was updated), it might affect their results. Having access to multiple software versions allow a set of researchers to prevent software versioning issues from affecting their results.\n",
    "\n",
    "Dependencies are where a particular software package (or even a particular version) depends on having access to another software package (or even a particular version of another software package). For example, the VASP materials science software may depend on having a particular version of the FFTW (Fastest Fourer Transform in the West) software library available for it to work."
   ]
  },
  {
   "cell_type": "markdown",
   "metadata": {},
   "source": [
    "\n",
    "## `modules`\n",
    "\n",
    "Environment modules are the solution to these problems. A module is a self-contained description of a software package - it contains the settings required to run a software packace and, usually, encodes required dependencies on other software packages.\n",
    "\n",
    "On most HPC systems there will be software built and managed by the sysadmin team, and typically this will be done with software modules. \n",
    "\n",
    "We can interact with the software modules with the `module` command (again `man module` will give you a full description of the options).\n",
    "\n",
    "\n"
   ]
  },
  {
   "cell_type": "markdown",
   "metadata": {},
   "source": [
    "## Exercise: listing the loaded modules\n",
    "\n",
    "From the module manual (`man module`) find the command to list the currently loaded modules. \n",
    "\n",
    "[Solution]()"
   ]
  },
  {
   "cell_type": "markdown",
   "metadata": {},
   "source": [
    "## Solution: listing the loaded modules\n",
    "\n",
    "```bash\n",
    "jupyter-user:$module list\n",
    "No Modulefiles Currently Loaded.\n",
    "```"
   ]
  },
  {
   "cell_type": "markdown",
   "metadata": {},
   "source": [
    "## Listing available modules\n",
    "\n",
    "In order to see the modules available we can use the command:\n",
    "\n",
    "```bash\n",
    "jupyter-user:$module avail\n",
    "--------------------------------------------- /usr/share/Modules/modulefiles ----------------------------------------------\n",
    "dot  module-git  module-info  modules  null  use.own\n",
    "\n",
    "------------------------------------------------- /usr/share/modulefiles --------------------------------------------------\n",
    "mpi/openmpi-x86_64  pmi/pmix-x86_64\n",
    "```\n",
    "\n",
    "There are minimal modules available on this cluster container (don't worry, Nimbus has **plenty**).\n"
   ]
  },
  {
   "cell_type": "markdown",
   "metadata": {},
   "source": [
    "## Loading modules\n",
    "\n",
    "We can see what a module contains with the follwoing command:\n",
    "\n",
    "```bash\n",
    "jupyter-user:$ module whatis mpi/openmpi-x86_64\n",
    "mpi/openmpi-x86_64: Description: The Open MPI Project is an open source MPI-3 implementation.\n",
    "mpi/openmpi-x86_64: Homepage: https://www.open-mpi.org/\n",
    "mpi/openmpi-x86_64: URL: https://www.open-mpi.org/ \n",
    "```\n",
    "\n",
    "We see the `mpi/openmpi-x86_64` module conatins the OpenMPI implementation of the Message Passing Interface (MPI) standard, with the libraries and mpi compiler wrappers, such as `mpif90` and `mpicc`. \n",
    "\n",
    "To see the effect of loading the module lets first use the `which` command to see if it can find the mpi fortran compiler `mpif90`:\n",
    "\n",
    "```bash\n",
    "jupyter-user:$which mpif90\n",
    "/usr/bin/which: no mpif90 in (/data/jupyter-user/.local/bin:/data/jupyter-user/bin:/usr/share/Modules/bin:/usr/local/sbin:/usr/local/bin:/usr/sbin:/usr/bin:/sbin:/bin)\n",
    "```\n",
    "\n",
    "We can see `which` has looked in all the standard places in our `$PATH` and has been unable to find the `mpif90` compiler. \n",
    "\n",
    "Now lets load the module and try again:\n",
    "\n",
    "```bash\n",
    "jupyter-user:$module load mpi/openmpi-x86_64\n",
    "jupyter-user:$which mpif90\n",
    "/usr/lib64/openmpi/bin/mpif90\n",
    "```\n",
    "\n",
    "Now we can see `which` can find the wrapper without any issues. Loading the module has updated our environment so that the location of the compiler (and the dependencies) is included in the paths searched. \n",
    "\n",
    "If we issue the command \n",
    "\n",
    "```bash\n",
    "jupyter-user:$echo $PATH\n",
    "```\n",
    "\n",
    "We can now see the directory paths being searched - we can see, by comapring to our error message above, that `/usr/lib64/openmpi/bin` has been added.\n"
   ]
  },
  {
   "cell_type": "markdown",
   "metadata": {},
   "source": [
    "## Unloading modules\n",
    "\n",
    "In order to remove a module we can issue the command:\n",
    "\n",
    "```bash\n",
    "jupyter-user:$ module unload mpi/openmpi-x86_64\n",
    "```\n",
    "\n"
   ]
  },
  {
   "cell_type": "markdown",
   "metadata": {},
   "source": [
    "## Exercise: unload\n",
    "\n",
    "Try unloading the mpi module now and inspect the `$PATH` environment variable with the `echo` command again. How has it changed? What is the outcome of `which mpif90` now?\n",
    "\n",
    "[Solution]()\n"
   ]
  },
  {
   "cell_type": "markdown",
   "metadata": {},
   "source": [
    "## Solution: unload\n",
    "\n",
    "We can see the path containg the openMPI binaries has been removed from the `$PATH` variable ,and `which mpif90` can no longer find the `mpif90` binary. "
   ]
  },
  {
   "cell_type": "markdown",
   "metadata": {},
   "source": [
    "## Purge\n",
    "\n",
    "If we wished to remove all loaded modules we could issue the command:\n",
    "\n",
    "```bash\n",
    "jupyter-user:$module purge\n",
    "```\n",
    "\n",
    "This is useful if there are lots of dependencies for a particular piece of software also stored in modules (which is typically the case on Nimbus.. This way you don't have to type every module out in an `module unload` statement before loading a new piece of software, just purge them all and do a fresh `module load` on the new software."
   ]
  },
  {
   "cell_type": "markdown",
   "metadata": {},
   "source": [
    "## Exercise: purge\n",
    "\n",
    "Try loading several of the available modules, and purge them. Confirm they are all removed by listing the currently loaded modules. "
   ]
  },
  {
   "cell_type": "markdown",
   "metadata": {},
   "source": [
    "## Key Points\n",
    "\n",
    "- List loaded software with `module list`\n",
    "- See what modules are available with `module load`\n",
    "- Load software with `module load softwareName`\n",
    "- Unload modules with `module unload <name>`\n",
    "- Purge all modules with `module purge`\n",
    "- The module system handles software versioning and package conflicts for you automatically."
   ]
  },
  {
   "cell_type": "markdown",
   "metadata": {},
   "source": []
  }
 ],
 "metadata": {
  "language_info": {
   "name": "python"
  },
  "orig_nbformat": 4
 },
 "nbformat": 4,
 "nbformat_minor": 2
}

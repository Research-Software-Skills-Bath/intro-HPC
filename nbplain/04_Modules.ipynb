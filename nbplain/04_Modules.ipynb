{
 "cells": [
  {
   "cell_type": "markdown",
   "metadata": {},
   "source": [
    "# Job Scheduler\n",
    "\n",
    "## Overview:\n",
    "\n",
    "- **Teaching:** 30 min\n",
    "- **Exercises:** 30 min\n",
    "\n",
    "**Questions**\n",
    "- What is a scheduler and why are they used?\n",
    "- How do I launch a program to run on a compute node?\n",
    "- How do I check limits on the cluster and my accounts?\n",
    "\n",
    "**Objectives**\n",
    "- Run a simple job on the cluster's compute nodes.\n",
    "- Inspect the status of your job.\n",
    "- Inspect the output and error files of your job."
   ]
  }
 ],
 "metadata": {
  "language_info": {
   "name": "python"
  },
  "orig_nbformat": 4
 },
 "nbformat": 4,
 "nbformat_minor": 2
}

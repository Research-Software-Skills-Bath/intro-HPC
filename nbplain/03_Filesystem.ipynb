{
 "cells": [
  {
   "cell_type": "markdown",
   "source": [
    "# The Filesystem: Navigating Files and Directories\n",
    "\n",
    "## Overview:\n",
    "\n",
    "- **Teaching:**  min\n",
    "- **Exercises:**  min\n",
    "\n",
    "**Questions**\n",
    "- How can I move around on my computer?\n",
    "- How can I see what files and directories I have?\n",
    "- How can I specify the location of a file or directory on my computer?\n",
    "\n",
    "**Objectives**\n",
    "- Explain the similarities and differences between a file and a directory.\n",
    "- Translate an absolute path into a relative path and vice versa.\n",
    "- Construct absolute and relative paths that identify specific files and directories.\n",
    "- Use options and arguments to change the behaviour of a shell command.\n",
    "- Demonstrate the use of tab completion and explain its advantages."
   ],
   "metadata": {}
  },
  {
   "cell_type": "markdown",
   "source": [
    "\n",
    "## The Command Prompt\n",
    "You are now logged on the the RSS server, and have a shell open in a terminal. You should see something like this:\n",
    "\n",
    "![Terminal](../images/jhub-terminal.png)\n",
    "\n",
    "The text you can see ( something like `username@rss-dev-jh-rss-vm:~$`) is known as the command prompt. The command prompt will look different if you are on you local computer (and can actually be customised to include things you want it to), but the general layout of the terminal should be similar - a mostly empty window, with a large (mostly empty for now) text area.\n",
    "\n",
    "The command prompt lets us know the sheel is ready to be given a command"
   ],
   "metadata": {}
  },
  {
   "cell_type": "markdown",
   "source": [
    "## Your First Command\n",
    "\n",
    "You should be able to recognise your username in the command prompt (prefixed with a `jupyter-` as that is your username on this server), but lets check who we are by running our first command. \n",
    "\n",
    "Type `whoami` into the terminal and press the enter key:\n",
    "\n",
    "![whoami](../images/whoami.png)\n",
    "\n",
    "Your username `jupyter-bath_username` should have been written to the terminal, and the `command prompt` should have returned.\n",
    "\n",
    "`whoami` is a simple program that outputs the ID of the current user, i.e. it tells us who the shell thinks we are. When we typed the `whoami` command the shell:\n",
    "\n",
    "1. Finds a program called `whoami`\n",
    "2. Runs the program `whoami`\n",
    "3. Displays the program's output\n",
    "4. Displays a new command prompt to tell us it's ready for more commands"
   ],
   "metadata": {}
  },
  {
   "cell_type": "markdown",
   "source": [
    "## Exercise: whoareyou\n",
    "\n",
    "What happens when you try the command `whoareyou`?\n",
    "\n",
    "```bash\n",
    "username@rss-dev-jh-rss-vm:~$whoareyou\n",
    "```\n",
    "\n",
    "[Solution]()"
   ],
   "metadata": {}
  },
  {
   "cell_type": "markdown",
   "source": [
    "## Solution: command doesn't exist\n",
    "\n",
    "The `whoareyou` command doesn't exist - i.e. there is no program on the system with that name. The shell returns an information message telling you as much:\n",
    "\n",
    "![whoaareyou](../images/whoareyou.png)\n",
    "\n",
    "Followed by the command prompt ready for the next command."
   ],
   "metadata": {}
  },
  {
   "cell_type": "markdown",
   "source": [
    "## The Filesystem\n",
    "\n",
    "The part of the operating system responsible for managing files and directories is called the **file system**. It organizes our data into files, which hold information, and directories (also called \"folders\"), which hold files or other directories.\n",
    "\n",
    "Several commands are frequently used to create, inspect, rename, and delete files and directories. \n",
    "\n",
    "First let's find out where we are by running a command called `pwd` (which stands for \"print working directory\"). Directories are like places - at any time while we are using the shell we are in exactly one place, called our current working directory. Commands mostly read and write files in the current working directory, i.e. \"here\", **so knowing where you are before running a command is important**. `pwd` shows you where you are:\n",
    "\n",
    "![pwd](../images/pwd.png)\n"
   ],
   "metadata": {}
  },
  {
   "cell_type": "markdown",
   "source": [
    "## The home directory\n",
    "\n",
    "Typically when you log into a machine or, depending on your system, start a terminal session you will start out in your user **home directory**. On our system that is `/jupyter/username` (remembering on this system your username is `jupyter-bathusername`). Though different filesystems will be organised in different ways. \n",
    "\n",
    "Lets take a look at the layout of a typical linux filesystem:\n",
    "\n",
    "\n",
    "![filesystem](../images/filesystem.svg)\n",
    "\n",
    "At the top is the root directory that holds everything else. We refer to it using a slash character, /, on its own; in our case this is the leading slash in `/jupyter/jupyter-bathusername`.\n",
    "\n",
    "Inside that directory are several other directories: bin (which is where some built-in programs are stored), data (for miscellaneous data files), Users (where users' personal directories are located), tmp (for temporary files that don't need to be stored long-term), and so on.\n",
    "\n",
    "We know that our current working directory `/jupyter/jupyter-bathusername` is stored inside `/jupyter/` because /Users is the first part of its name. Similarly, we know that /Users is stored inside the root directory / because its name begins with /.\n",
    "\n"
   ],
   "metadata": {}
  },
  {
   "cell_type": "markdown",
   "source": [],
   "metadata": {}
  }
 ],
 "metadata": {
  "orig_nbformat": 4,
  "language_info": {
   "name": "python"
  }
 },
 "nbformat": 4,
 "nbformat_minor": 2
}